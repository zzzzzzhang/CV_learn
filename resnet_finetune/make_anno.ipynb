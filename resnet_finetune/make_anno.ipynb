{
 "cells": [
  {
   "cell_type": "code",
   "execution_count": null,
   "metadata": {},
   "outputs": [],
   "source": [
    "import os\n",
    "import pandas as pd\n",
    "from PIL import Image "
   ]
  },
  {
   "cell_type": "markdown",
   "metadata": {},
   "source": [
    "## 建立标签，方便程序读取"
   ]
  },
  {
   "cell_type": "code",
   "execution_count": null,
   "metadata": {},
   "outputs": [],
   "source": [
    "roots = 'data/cats_and_dogs_small/'\n",
    "phase = ['train','val','test']\n",
    "classes = ['cats', 'dogs']\n",
    "\n",
    "dataIfo = {'train':{'path':[],'classes':[]},\n",
    "             'val':{'path':[],'classes':[]},\n",
    "            'test':{'path':[],'classes':[]}}\n",
    "\n",
    "\n",
    "for p in phase:\n",
    "    for s in classes:\n",
    "        data_dir = roots + p + '/' + s\n",
    "        data_filenames = os.listdir(data_dir)\n",
    "        for filename in data_filenames:\n",
    "            imgPath = data_dir + '/' + filename\n",
    "            try:\n",
    "                img = Image.open(imgPath)\n",
    "            except OSError:\n",
    "                pass\n",
    "            else:\n",
    "                dataIfo[p]['path'].append(imgPath)\n",
    "                dataIfo[p]['classes'].append(0 if s=='cats' else 1)\n",
    "    annotation = pd.DataFrame(dataIfo[p])\n",
    "    annotation.to_csv(roots  + 'anno' +  '/' + 'Classes_{}_annotation.csv'.format(p),index= None)\n",
    "    print('Classes_{}_annotation is saved'.format(p))\n"
   ]
  },
  {
   "cell_type": "code",
   "execution_count": null,
   "metadata": {},
   "outputs": [],
   "source": []
  },
  {
   "cell_type": "code",
   "execution_count": null,
   "metadata": {},
   "outputs": [],
   "source": []
  },
  {
   "cell_type": "code",
   "execution_count": null,
   "metadata": {},
   "outputs": [],
   "source": []
  },
  {
   "cell_type": "code",
   "execution_count": null,
   "metadata": {},
   "outputs": [],
   "source": []
  }
 ],
 "metadata": {
  "kernelspec": {
   "display_name": "Python 3",
   "language": "python",
   "name": "python3"
  },
  "language_info": {
   "codemirror_mode": {
    "name": "ipython",
    "version": 3
   },
   "file_extension": ".py",
   "mimetype": "text/x-python",
   "name": "python",
   "nbconvert_exporter": "python",
   "pygments_lexer": "ipython3",
   "version": "3.6.4"
  },
  "varInspector": {
   "cols": {
    "lenName": 16,
    "lenType": 16,
    "lenVar": 40
   },
   "kernels_config": {
    "python": {
     "delete_cmd_postfix": "",
     "delete_cmd_prefix": "del ",
     "library": "var_list.py",
     "varRefreshCmd": "print(var_dic_list())"
    },
    "r": {
     "delete_cmd_postfix": ") ",
     "delete_cmd_prefix": "rm(",
     "library": "var_list.r",
     "varRefreshCmd": "cat(var_dic_list()) "
    }
   },
   "types_to_exclude": [
    "module",
    "function",
    "builtin_function_or_method",
    "instance",
    "_Feature"
   ],
   "window_display": false
  }
 },
 "nbformat": 4,
 "nbformat_minor": 2
}
