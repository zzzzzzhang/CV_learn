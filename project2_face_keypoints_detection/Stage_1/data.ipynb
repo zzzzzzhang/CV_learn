{
 "cells": [
  {
   "cell_type": "code",
   "execution_count": 2,
   "metadata": {
    "collapsed": true
   },
   "outputs": [],
   "source": [
    "import numpy as np\n",
    "import cv2\n",
    "import pandas as pd\n",
    "import torch\n",
    "from torchvision import transforms\n",
    "from torch.utils.data import Dataset\n",
    "from PIL import Image\n",
    "import itertools"
   ]
  },
  {
   "cell_type": "code",
   "execution_count": 3,
   "metadata": {
    "collapsed": true
   },
   "outputs": [],
   "source": [
    "def channel_norm(img):\n",
    "    mean = np.mean(img)\n",
    "    std = np.std(img)\n",
    "    pixels = (img-mean)/(std)\n",
    "    return pixels"
   ]
  },
  {
   "cell_type": "code",
   "execution_count": 45,
   "metadata": {
    "collapsed": true
   },
   "outputs": [],
   "source": [
    "def parse_line(line):\n",
    "    line_parts = line.tolist()\n",
    "    img_name = line_parts[0]\n",
    "    #rect = list(map(int, list(map(float, line_parts[1:5]))))\n",
    "    rect = list(map(int, line_parts[1:5]))\n",
    "    landmarks = list(map(float, line_parts[5: len(line_parts)]))\n",
    "    return img_name, rect, landmarks"
   ]
  },
  {
   "cell_type": "code",
   "execution_count": 6,
   "metadata": {},
   "outputs": [],
   "source": [
    "class Normalize(object):\n",
    "    \"\"\"\n",
    "        Resieze to train_boarder x train_boarder. Here we use 112 x 112\n",
    "        Then do channel normalization: (image - mean) / std_variation\n",
    "    \"\"\"\n",
    "    def __call__(self,sample):\n",
    "        img, landmask = sample['image'], sample['landmask']\n",
    "        img_resize = np.asarray(img.resize((train_boarder, train_boarder),Image.BILINEAR))\n",
    "        img_resize = channel_norm(img_resize)\n",
    "        return {'image':img_resize,'landmask':landmask}"
   ]
  },
  {
   "cell_type": "code",
   "execution_count": 10,
   "metadata": {
    "collapsed": true
   },
   "outputs": [],
   "source": [
    "class ToTensor(object):\n",
    "    \"\"\"\n",
    "        Convert ndarrays in sample to Tensors.\n",
    "        Tensors channel sequence: N x C x H x W\n",
    "    \"\"\"\n",
    "    def __call__(self,sample):\n",
    "        '''\n",
    "        numpy img: H*W*C\n",
    "        torch.tensorimg: N*C*H*W\n",
    "        '''\n",
    "        img, landmask = sample['image'], sample['landmask']\n",
    "        img = img.transpose((2, 0, 1))\n",
    "        img = np.expand_dims(img, axis=0)\n",
    "        return {'image':torch.from_numpy(img), 'landmask':torch.from_numpy(landmask)}"
   ]
  },
  {
   "cell_type": "code",
   "execution_count": null,
   "metadata": {
    "collapsed": true
   },
   "outputs": [],
   "source": [
    "class FaceLandmarksDataset():\n",
    "    def __init__(self, data, transforms= None)：\n",
    "        '''\n",
    "        :param lines: src_line\n",
    "        :param transform: data transform\n",
    "        '''\n",
    "        self.data = data\n",
    "        self.transforms = transforms\n",
    "    \n",
    "    def __len__(self):\n",
    "        return len(data)\n",
    "    \n",
    "    def __getitem__(self, idx):\n",
    "        img, rect, landmasks = parse_line(self.data.values[idx])\n",
    "        #转为灰度图\n",
    "        img = Image.open(img).convert('L')\n",
    "        img = img.crop(tuple(rect))\n",
    "        landmasks = np.array(landmasks).astype('float32')\n",
    "        '''\n",
    "        undone\n",
    "        '''\n",
    "        sample = {'image':img, 'landmasks':landmasks}\n",
    "        sample = self.transform(sample)\n",
    "        return sample"
   ]
  },
  {
   "cell_type": "code",
   "execution_count": null,
   "metadata": {
    "collapsed": true
   },
   "outputs": [],
   "source": []
  },
  {
   "cell_type": "code",
   "execution_count": null,
   "metadata": {
    "collapsed": true
   },
   "outputs": [],
   "source": []
  },
  {
   "cell_type": "code",
   "execution_count": null,
   "metadata": {
    "collapsed": true
   },
   "outputs": [],
   "source": []
  },
  {
   "cell_type": "code",
   "execution_count": null,
   "metadata": {
    "collapsed": true
   },
   "outputs": [],
   "source": []
  },
  {
   "cell_type": "code",
   "execution_count": null,
   "metadata": {
    "collapsed": true
   },
   "outputs": [],
   "source": []
  },
  {
   "cell_type": "code",
   "execution_count": null,
   "metadata": {
    "collapsed": true
   },
   "outputs": [],
   "source": []
  },
  {
   "cell_type": "code",
   "execution_count": null,
   "metadata": {
    "collapsed": true
   },
   "outputs": [],
   "source": []
  },
  {
   "cell_type": "code",
   "execution_count": 8,
   "metadata": {
    "collapsed": true
   },
   "outputs": [],
   "source": [
    "df = pd.read_csv('F:/data/cv_learn/项目/项目二/train/train_annotation.csv')"
   ]
  },
  {
   "cell_type": "code",
   "execution_count": 1,
   "metadata": {},
   "outputs": [
    {
     "ename": "NameError",
     "evalue": "name 'df' is not defined",
     "output_type": "error",
     "traceback": [
      "\u001b[1;31m---------------------------------------------------------------------------\u001b[0m",
      "\u001b[1;31mNameError\u001b[0m                                 Traceback (most recent call last)",
      "\u001b[1;32m<ipython-input-1-7ed0097d7e9e>\u001b[0m in \u001b[0;36m<module>\u001b[1;34m()\u001b[0m\n\u001b[1;32m----> 1\u001b[1;33m \u001b[0mdf\u001b[0m\u001b[1;33m\u001b[0m\u001b[1;33m\u001b[0m\u001b[0m\n\u001b[0m",
      "\u001b[1;31mNameError\u001b[0m: name 'df' is not defined"
     ]
    }
   ],
   "source": [
    "df"
   ]
  },
  {
   "cell_type": "code",
   "execution_count": null,
   "metadata": {
    "collapsed": true
   },
   "outputs": [],
   "source": []
  },
  {
   "cell_type": "code",
   "execution_count": null,
   "metadata": {
    "collapsed": true
   },
   "outputs": [],
   "source": []
  },
  {
   "cell_type": "code",
   "execution_count": null,
   "metadata": {
    "collapsed": true
   },
   "outputs": [],
   "source": []
  }
 ],
 "metadata": {
  "kernelspec": {
   "display_name": "Python 3",
   "language": "python",
   "name": "python3"
  },
  "language_info": {
   "codemirror_mode": {
    "name": "ipython",
    "version": 3
   },
   "file_extension": ".py",
   "mimetype": "text/x-python",
   "name": "python",
   "nbconvert_exporter": "python",
   "pygments_lexer": "ipython3",
   "version": "3.6.7"
  }
 },
 "nbformat": 4,
 "nbformat_minor": 2
}
