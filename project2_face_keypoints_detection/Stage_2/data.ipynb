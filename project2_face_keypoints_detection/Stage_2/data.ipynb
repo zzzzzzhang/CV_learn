{
 "cells": [
  {
   "cell_type": "code",
   "execution_count": null,
   "metadata": {
    "collapsed": true
   },
   "outputs": [],
   "source": [
    "import numpy as np\n",
    "import cv2\n",
    "import pandas as pd\n",
    "import torch\n",
    "from torchvision import transforms\n",
    "from torch.utils.data import Dataset\n",
    "from PIL import Image, ImageDraw \n",
    "import itertools\n",
    "import random"
   ]
  },
  {
   "cell_type": "code",
   "execution_count": null,
   "metadata": {
    "collapsed": true
   },
   "outputs": [],
   "source": [
    "def channel_norm(img):\n",
    "    mean = np.mean(img)\n",
    "    std = np.std(img)\n",
    "    pixels = (img-mean)/(std)\n",
    "    return pixels"
   ]
  },
  {
   "cell_type": "code",
   "execution_count": null,
   "metadata": {
    "collapsed": true
   },
   "outputs": [],
   "source": [
    "def parse_line(line):\n",
    "    line_parts = line.tolist()\n",
    "    img_name = line_parts[0]\n",
    "    #rect = list(map(int, list(map(float, line_parts[1:5]))))\n",
    "    rect = list(map(int, line_parts[1:5]))\n",
    "    landmarks = list(map(float, line_parts[5: len(line_parts)]))\n",
    "    return img_name, rect, landmarks"
   ]
  },
  {
   "cell_type": "code",
   "execution_count": null,
   "metadata": {
    "collapsed": true
   },
   "outputs": [],
   "source": [
    "class Normalize(object):\n",
    "    \"\"\"\n",
    "        Resieze to train_boarder x train_boarder. Here we use 112 x 112\n",
    "        Then do channel normalization: (image - mean) / std_variation\n",
    "    \"\"\"\n",
    "    def __init__(self,train_boarder= 112):\n",
    "        self.train_boarder = train_boarder\n",
    "    def __call__(self,sample):\n",
    "        img, landmask = sample['image'], sample['landmarks']\n",
    "        img_resize = np.asarray(img.resize((self.train_boarder, self.train_boarder),Image.BILINEAR))\n",
    "#         img_resize = channel_norm(img_resize)\n",
    "        return {'image':img_resize,'landmarks':landmask}"
   ]
  },
  {
   "cell_type": "code",
   "execution_count": null,
   "metadata": {
    "collapsed": true
   },
   "outputs": [],
   "source": [
    "class  FlipHorizontal(object):\n",
    "    '''\n",
    "    flip horizontal\n",
    "    '''\n",
    "    def __init__(self,p= 0.5, train_boarder= 112):\n",
    "        self.p = p\n",
    "        self.train_boarder = train_boarder\n",
    "    def __call__(self,sample):\n",
    "        img, landmask = sample['image'], sample['landmarks']\n",
    "        if random.random() < self.p:\n",
    "            img = img[:,::-1].copy()\n",
    "            landmask[0::2] = self.train_boarder - landmask[0::2].copy()\n",
    "        return {'image':img,'landmarks':landmask}"
   ]
  },
  {
   "cell_type": "code",
   "execution_count": null,
   "metadata": {
    "collapsed": true
   },
   "outputs": [],
   "source": [
    "class  RandomRotation(object):\n",
    "    '''\n",
    "    RandomRotation(0,15)\n",
    "    '''\n",
    "    def __init__(self, train_boarder= 112):\n",
    "        self.train_boarder = train_boarder\n",
    "    def __call__(self,sample):\n",
    "        img, landmask = sample['image'], sample['landmarks']\n",
    "        ang = random.randint(-15, 15)\n",
    "        scale = 0.9\n",
    "        M = cv2.getRotationMatrix2D((self.train_boarder/2, self.train_boarder/2), ang, scale)\n",
    "        img = cv2.warpAffine(img, M, (self.train_boarder,self.train_boarder), flags= cv2.INTER_LINEAR)\n",
    "        xs = landmask[::2].copy()\n",
    "        ys = landmask[1::2].copy()\n",
    "        \n",
    "        #opencv获得的旋转矩阵是调整过的，需要注意\n",
    "        mxy = (np.c_[xs,ys] - np.array([self.train_boarder/2, self.train_boarder/2])) \n",
    "        xys = (mxy.dot( np.transpose( M[:,:2] ) ) + np.array([self.train_boarder/2, self.train_boarder/2]))\n",
    "        \n",
    "        landmask[::2] = xys[:,0]\n",
    "        landmask[1::2] = xys[:,1]\n",
    "        return {'image':img,'landmarks':landmask}"
   ]
  },
  {
   "cell_type": "code",
   "execution_count": null,
   "metadata": {
    "collapsed": true
   },
   "outputs": [],
   "source": [
    "class ToTensor(object):\n",
    "    \"\"\"\n",
    "        Convert ndarrays in sample to Tensors.\n",
    "        Tensors channel sequence: N x C x H x W\n",
    "    \"\"\"\n",
    "    def __call__(self,sample):\n",
    "        '''\n",
    "        numpy img: H*W*C\n",
    "        torch.tensorimg: N*C*H*W\n",
    "        '''\n",
    "        img, landmarks = sample['image'], sample['landmarks']\n",
    "#         如果不是灰度图要改变维度\n",
    "#         img = img.transpose((2, 0, 1))\n",
    "#         img = np.expand_dims(img, axis=0)\n",
    "        img = np.expand_dims(img, axis=0)\n",
    "        return {'image':torch.from_numpy(img).float(), \n",
    "                'landmarks':torch.from_numpy(landmarks).float()}"
   ]
  },
  {
   "cell_type": "code",
   "execution_count": null,
   "metadata": {
    "collapsed": true
   },
   "outputs": [],
   "source": [
    "class FaceLandmarksDataset():\n",
    "    def __init__(self, data, transforms= None, train_boarder= 112):\n",
    "        '''\n",
    "        :param lines: src_line\n",
    "        :param transform: data transform\n",
    "        '''\n",
    "        self.data = data\n",
    "        self.transforms = transforms\n",
    "        self.train_boarder = train_boarder\n",
    "    def __len__(self):\n",
    "        return len(self.data)\n",
    "    \n",
    "    def __getitem__(self, idx):\n",
    "        img, rect, landmarks = parse_line(self.data.values[idx])\n",
    "        #转为灰度图\n",
    "        img = Image.open(img).convert('L')\n",
    "        img = img.crop(tuple(rect))\n",
    "        landmarks = np.array(landmarks).astype('float64')\n",
    "        \n",
    "        #对lanmarks做变换\n",
    "        w = rect[2] - rect[0]\n",
    "        h = rect[3] - rect[1]\n",
    "        \n",
    "        k_w = self.train_boarder/w\n",
    "        k_h = self.train_boarder/h\n",
    "        \n",
    "        landmarks[::2] *= k_w\n",
    "        landmarks[1::2] *= k_h\n",
    "        \n",
    "        sample = {'image':img, 'landmarks':landmarks}\n",
    "        sample = self.transforms(sample)\n",
    "        return sample"
   ]
  },
  {
   "cell_type": "code",
   "execution_count": null,
   "metadata": {
    "collapsed": true
   },
   "outputs": [],
   "source": [
    "def load_data(filepath, phase):\n",
    "    '''\n",
    "    加载数据\n",
    "    '''\n",
    "    df = pd.read_csv(filepath)\n",
    "    if phase == 'Train' or phase == 'train':\n",
    "        tsfm = transforms.Compose([\n",
    "            Normalize(),                # do channel normalization\n",
    "            FlipHorizontal(),           # do Flip Horizontal\n",
    "            RandomRotation(),           # do Random Rotation\n",
    "            ToTensor()]                 # convert to torch type: NxCxHxW\n",
    "        )\n",
    "    else:\n",
    "        tsfm = transforms.Compose([\n",
    "            Normalize(),\n",
    "            ToTensor()]\n",
    "        )\n",
    "    data_set = FaceLandmarksDataset(df, transforms= tsfm)\n",
    "    return data_set"
   ]
  },
  {
   "cell_type": "code",
   "execution_count": null,
   "metadata": {
    "collapsed": true
   },
   "outputs": [],
   "source": [
    "def get_train_test_set():\n",
    "    train_set = load_data('F:/data/cv_learn/项目/项目二/train/train_annotation.csv','train')\n",
    "    valid_set = load_data('F:/data/cv_learn/项目/项目二/test/test_annotation.csv','test')\n",
    "    return train_set, valid_set"
   ]
  },
  {
   "cell_type": "code",
   "execution_count": null,
   "metadata": {
    "collapsed": true
   },
   "outputs": [],
   "source": [
    "def drawLandMarks(path, idx):\n",
    "    '''\n",
    "    在resize后的图上画出landmarks\n",
    "    '''\n",
    "    dataset = load_data(path, 'train')\n",
    "    \n",
    "    sample = dataset[idx]\n",
    "    img = transforms.ToPILImage()(sample['image'].type(torch.uint8))\n",
    "    landmarks = sample['landmarks'].numpy()\n",
    "    xs = landmarks[::2]\n",
    "    ys = landmarks[1::2]\n",
    "    \n",
    "    draw = ImageDraw.Draw(img)\n",
    "    draw.point(list(zip(xs,ys)),fill = (0))\n",
    "    img.show()"
   ]
  },
  {
   "cell_type": "code",
   "execution_count": null,
   "metadata": {},
   "outputs": [],
   "source": [
    "if __name__ == '__main__':\n",
    "    path= 'F:/data/cv_learn/项目/项目二/train/train_annotation.csv'\n",
    "    drawLandMarks(path= path, idx= 1564)"
   ]
  },
  {
   "cell_type": "code",
   "execution_count": null,
   "metadata": {
    "collapsed": true
   },
   "outputs": [],
   "source": []
  },
  {
   "cell_type": "code",
   "execution_count": null,
   "metadata": {
    "collapsed": true
   },
   "outputs": [],
   "source": []
  },
  {
   "cell_type": "code",
   "execution_count": null,
   "metadata": {
    "collapsed": true
   },
   "outputs": [],
   "source": []
  },
  {
   "cell_type": "code",
   "execution_count": null,
   "metadata": {
    "collapsed": true
   },
   "outputs": [],
   "source": []
  },
  {
   "cell_type": "code",
   "execution_count": null,
   "metadata": {
    "collapsed": true
   },
   "outputs": [],
   "source": []
  },
  {
   "cell_type": "code",
   "execution_count": null,
   "metadata": {
    "collapsed": true
   },
   "outputs": [],
   "source": []
  }
 ],
 "metadata": {
  "kernelspec": {
   "display_name": "Python 3",
   "language": "python",
   "name": "python3"
  },
  "language_info": {
   "codemirror_mode": {
    "name": "ipython",
    "version": 3
   },
   "file_extension": ".py",
   "mimetype": "text/x-python",
   "name": "python",
   "nbconvert_exporter": "python",
   "pygments_lexer": "ipython3",
   "version": "3.6.7"
  }
 },
 "nbformat": 4,
 "nbformat_minor": 2
}
