{
 "cells": [
  {
   "cell_type": "code",
   "execution_count": null,
   "metadata": {
    "collapsed": true
   },
   "outputs": [],
   "source": [
    "import os\n",
    "import pandas as pd\n",
    "from PIL import Image, ImageDraw "
   ]
  },
  {
   "cell_type": "code",
   "execution_count": null,
   "metadata": {
    "collapsed": true
   },
   "outputs": [],
   "source": [
    "def make_anno(path_root):\n",
    "    '''\n",
    "    生成截取后的训练样本和测试样本\n",
    "    '''\n",
    "    path_pictures = path_root + 'pictures/'\n",
    "    path_labels = path_root + 'labels/label.txt'\n",
    "    \n",
    "    os.makedirs(path_root + 'train',exist_ok= True)\n",
    "    os.makedirs(path_root + 'test',exist_ok= True)\n",
    "    train = path_root + 'train/train_annotation.csv'\n",
    "    test = path_root + 'test/test_annotation.csv'\n",
    "    \n",
    "    dataIfo = {'path':[], 'bx1':[], 'by1':[], 'bx2':[], 'by2':[]}\n",
    "    for j in range(21):\n",
    "        dataIfo['x' + str(j)] = []\n",
    "        dataIfo['y' + str(j)] = []\n",
    "\n",
    "    labels = pd.read_csv(path_labels, header= None, delimiter= ' ').values\n",
    "    for i in range(len(labels)):\n",
    "        imgpath = os.path.join(path_pictures,labels[i,0])\n",
    "        img = Image.open(imgpath)\n",
    "        x1 = labels[i,1]\n",
    "        y1 = labels[i,2]\n",
    "        x2 = labels[i,3]\n",
    "        y2 = labels[i,4]\n",
    "        \n",
    "        expand = 0.25\n",
    "        width = x2 - x1 + 1\n",
    "        height = y2 - y1 + 1\n",
    "        padding_width = int(width * expand)\n",
    "        padding_height = int(height * expand)\n",
    "        \n",
    "        x1 = round(x1 - padding_width if x1 - padding_width >= 0 else 0)\n",
    "        x2 = round(x2 + padding_width if x2 + padding_width < img.width else img.width-1)\n",
    "        y1 = round(y1 - padding_height if y1 - padding_height >= 0 else 0)\n",
    "        y2 = round(y2 + padding_height if y2 + padding_height < img.height else img.height-1)\n",
    "        \n",
    "#         img = img.crop((x1, y1, x2, y2))\n",
    "        dataIfo['path'].append(imgpath)\n",
    "        dataIfo['bx1'].append(x1)\n",
    "        dataIfo['by1'].append(y1)\n",
    "        dataIfo['bx2'].append(x2)\n",
    "        dataIfo['by2'].append(y2)\n",
    "        for j in range(21):\n",
    "            idx = j*2 + 5\n",
    "            x_idx = labels[i,idx]\n",
    "            y_idx = labels[i,idx + 1]\n",
    "            dataIfo['x' + str(j)].append(round(x_idx - x1,2))\n",
    "            dataIfo['y' + str(j)].append(round(y_idx - y1,2))\n",
    "            \n",
    "    dataIfo = pd.DataFrame(dataIfo)\n",
    "    \n",
    "    #删除坐标负值样本\n",
    "    idxs = []\n",
    "    for i ,row in enumerate(dataIfo.iloc[:,5:].values):\n",
    "        if all([0 if o < 0 else 1 for o in row]):\n",
    "            continue\n",
    "        else:\n",
    "            idxs.append(i)\n",
    "    dataIfo = dataIfo.drop(idxs)\n",
    "    #打乱数据行\n",
    "    dataIfo = dataIfo.sample(frac= 1, random_state=1)\n",
    "    dataIfo.iloc[:round(0.9*len(dataIfo)), :].to_csv(train, index= None)\n",
    "    dataIfo.iloc[round(0.9*len(dataIfo)):, :].to_csv(test, index= None)\n",
    "    return dataIfo"
   ]
  },
  {
   "cell_type": "code",
   "execution_count": null,
   "metadata": {
    "collapsed": true
   },
   "outputs": [],
   "source": [
    "def visualize_dataset(dataIfo, idx):\n",
    "    '''\n",
    "    查看数据\n",
    "    '''\n",
    "    print('共有{}条数据'.format(len(dataIfo)))\n",
    "    \n",
    "    img = Image.open(dataIfo['path'][idx])\n",
    "#     img.show()\n",
    "    x1 = dataIfo['bx1'][idx]\n",
    "    y1 = dataIfo['by1'][idx]\n",
    "    x2 = dataIfo['bx2'][idx]\n",
    "    y2 = dataIfo['by2'][idx]\n",
    "#     print(img.size)\n",
    "    img = img.crop((x1, y1, x2, y2))\n",
    "    draw = ImageDraw.Draw(img)\n",
    "    \n",
    "    xs = dataIfo.values[idx,5::2]\n",
    "    ys = dataIfo.values[idx,6::2]\n",
    "\n",
    "    assert len(xs) == len(ys)\n",
    "    \n",
    "    draw.point(list(zip(xs,ys)),fill = (255, 0, 0))\n",
    "    img = img.resize((256,256),Image.ANTIALIAS)\n",
    "    \n",
    "    img.show()"
   ]
  },
  {
   "cell_type": "code",
   "execution_count": null,
   "metadata": {
    "scrolled": true
   },
   "outputs": [],
   "source": [
    "if __name__ == '__main__':\n",
    "    path_root = 'data/'        \n",
    "    dataIfo = make_anno(path_root)\n",
    "    visualize_dataset(dataIfo, 29)"
   ]
  },
  {
   "cell_type": "code",
   "execution_count": null,
   "metadata": {
    "collapsed": true
   },
   "outputs": [],
   "source": [
    "Image.open(dataIfo['path'][29])"
   ]
  }
 ],
 "metadata": {
  "kernelspec": {
   "display_name": "Python 3",
   "language": "python",
   "name": "python3"
  },
  "language_info": {
   "codemirror_mode": {
    "name": "ipython",
    "version": 3
   },
   "file_extension": ".py",
   "mimetype": "text/x-python",
   "name": "python",
   "nbconvert_exporter": "python",
   "pygments_lexer": "ipython3",
   "version": "3.6.7"
  },
  "varInspector": {
   "cols": {
    "lenName": 16,
    "lenType": 16,
    "lenVar": 40
   },
   "kernels_config": {
    "python": {
     "delete_cmd_postfix": "",
     "delete_cmd_prefix": "del ",
     "library": "var_list.py",
     "varRefreshCmd": "print(var_dic_list())"
    },
    "r": {
     "delete_cmd_postfix": ") ",
     "delete_cmd_prefix": "rm(",
     "library": "var_list.r",
     "varRefreshCmd": "cat(var_dic_list()) "
    }
   },
   "types_to_exclude": [
    "module",
    "function",
    "builtin_function_or_method",
    "instance",
    "_Feature"
   ],
   "window_display": true
  }
 },
 "nbformat": 4,
 "nbformat_minor": 2
}
